{
 "cells": [
  {
   "cell_type": "code",
   "execution_count": 1,
   "metadata": {},
   "outputs": [
    {
     "name": "stdout",
     "output_type": "stream",
     "text": [
      "124\n"
     ]
    }
   ],
   "source": [
    "#Loads results of previous jackpots into row_results\n",
    "with open('results.txt',mode='r') as f:\n",
    "    results = f.readlines()\n",
    "\n",
    "row_results = [] #Results of jackpot games arranged in 131 rows\n",
    "for i in range(0,int(len(results)/18)):\n",
    "    a = []\n",
    "    for j in range(0,17):\n",
    "        if results[i*18+j][0]=='1' or results[i*18+j][0]=='2' or results[i*18+j][0]=='3':\n",
    "            a.append(int(results[i*18+j][0]))\n",
    "        else:\n",
    "            a.append(0)\n",
    "    row_results.append(a)\n",
    "    continue\n",
    "print(len(row_results))"
   ]
  },
  {
   "cell_type": "code",
   "execution_count": 2,
   "metadata": {},
   "outputs": [
    {
     "name": "stdout",
     "output_type": "stream",
     "text": [
      "124\n"
     ]
    }
   ],
   "source": [
    "with open('picks_clean.txt',mode='r') as f:\n",
    "    picks = f.readlines()\n",
    "\n",
    "row_picks = [] #Results of jackpot picks arranged in 131 rows\n",
    "for i in range(0,int(len(picks)/18)):\n",
    "    a = []\n",
    "    for j in range(0,17):\n",
    "        if picks[i*18+j][0] not in '123':\n",
    "            a.append([0])\n",
    "        else:\n",
    "            if len(picks[i*18+j])==2:\n",
    "                a.append([int(picks[i*18+j][0])])\n",
    "            else:\n",
    "                a.append([int(picks[i*18+j][0]),int(picks[i*18+j][1])])\n",
    "    row_picks.append(a)\n",
    "    continue\n",
    "print(len(row_picks))"
   ]
  },
  {
   "cell_type": "code",
   "execution_count": 3,
   "metadata": {},
   "outputs": [],
   "source": [
    "with open('Hit_templates1.txt', mode = 'r') as f:\n",
    "    my_hits_templates = f.read().split()"
   ]
  },
  {
   "cell_type": "code",
   "execution_count": 4,
   "metadata": {},
   "outputs": [],
   "source": [
    "import copy\n",
    "import numpy as np\n",
    "from random  import sample\n",
    "from  itertools import product\n",
    "\n",
    "\n",
    "\n",
    "#Counts the number of consecutive occurrences of the elements\n",
    "\n",
    "from itertools import groupby\n",
    "\n",
    "def group(xs):\n",
    "    groups = groupby(xs)\n",
    "    result = [(label, sum(1 for _ in group)) for label, group in groups]\n",
    "    return result\n",
    "\n",
    "#Returns grouping of a single list\n",
    "def counter(my_list,group_length):\n",
    "    if group_length>len(my_list):\n",
    "        return('Error: Group length is longer than length of list!!')\n",
    "    e = []\n",
    "    d = copy.deepcopy(my_list)\n",
    "    for g in range(group_length):\n",
    "        b = [str(''.join(map(str,(d[n+g:n+group_length+g])))) for n in range(0, len(d)-g, group_length)]\n",
    "        d.append(my_list[g])\n",
    "        c = group(b)\n",
    "        e.append(c)\n",
    "    return e\n",
    "\n",
    "#Returns groupings of a list of lists\n",
    "def multiplecounter(my_list_of_lists,group_length):\n",
    "    return [counter(i,group_length) for i in my_list_of_lists]\n",
    "\n",
    "#Returns True if a grouping of a single list has more incidences than limit, otherwise false\n",
    "def counterFlag(my_list,group_length,limit):\n",
    "    my_group = counter(my_list,group_length)\n",
    "    for i in my_group:\n",
    "        for j in i:\n",
    "            if j[1]>limit:\n",
    "                return True\n",
    "    return False\n",
    "\n",
    "#Applies counterFlag to a list of lists\n",
    "def multipleCounterFlag(my_list_of_lists, group_length,limit):\n",
    "    return [counterFlag(i,group_length,limit) for i in my_list_of_lists]\n",
    "\n",
    "#Applies counterflag to a single list using a list of limits\n",
    "from IPython.display import clear_output\n",
    "def product_checker(my_product,my_limits):\n",
    "     \n",
    "    for i in range(0,8):\n",
    "        if counterFlag(my_product,i+1,my_limits[i]):\n",
    "            return True\n",
    "    return False\n",
    "\n",
    "#Returns a list of possiblities from games17_num file\n",
    "#directory = 'C:\\\\Users\\\\Abed\\\\Documents\\\\Game perms\\\\game_17\\\\games17_'\n",
    "#directory = 'clean_games17_'\n",
    "directory = 'cleaner_games17_'\n",
    "def text_to_variable(number):\n",
    "    clear_output()\n",
    "    print(number)\n",
    "    with open(directory+str(number)+'.txt',mode='r') as f:\n",
    "        return [i for i in f.read().split()]\n",
    "  \n",
    " # Creates a dictionary that counts number of correct predictions\n",
    "def countconf(xs):\n",
    "    mydict = {}\n",
    "    mydict[0] = xs.count(0)\n",
    "    mydict[1] = xs.count(1)\n",
    "    mydict[2] = xs.count(2)\n",
    "    mydict[3] = xs.count(3)\n",
    "    mydict[4] = xs.count(4)\n",
    "    mydict[5] = xs.count(5)\n",
    "    mydict[6] = xs.count(6)\n",
    "    mydict[7] = xs.count(7)\n",
    "    mydict[8] = xs.count(8)\n",
    "    mydict[9] = xs.count(9)\n",
    "    mydict[10] = xs.count(10)\n",
    "    mydict[11] = xs.count(11)\n",
    "    mydict[12] = xs.count(12)\n",
    "    mydict[13] = xs.count(13)\n",
    "    mydict[14] = xs.count(14)\n",
    "    mydict[15] = xs.count(15)\n",
    "    mydict[16] = xs.count(16)\n",
    "    mydict[17] = xs.count(17)\n",
    "\n",
    "    return mydict\n",
    "\n",
    "\n",
    "def str_to_list(string):\n",
    "    return [int(i) for i in string]\n",
    "\n",
    "def replace(my_list):\n",
    "    for i in range(len(my_list)):\n",
    "        if my_list[i]==0:\n",
    "            my_list[i]=4\n",
    "            \n",
    "            \n",
    "def normPos_to_dictPos(normPos):\n",
    "    for i in my_ranges:\n",
    "        if normPos in i:\n",
    "            return str_to_list(my_possibilities_dict[my_ranges.index(i)+1][normPos-min(i)])\n",
    "        \n",
    "        \n",
    "def sum_n_average_checker(my_list):\n",
    "    if 37>sum(my_list)>28:\n",
    "        return 8>my_list.count(1)>4 and 7>my_list.count(2)>3 and 7>my_list.count(3)>3\n",
    "    else:\n",
    "        return False\n",
    "    \n",
    "    \n",
    "#returns true if a possibility satisfies a prediction according to a given template\n",
    "def template_to_prediction(template,prediction,possibility):\n",
    "    for i in range(len(template)):\n",
    "        if template[i] == 1:\n",
    "            \n",
    "            if len(prediction[i]) == 1:\n",
    "                if possibility[i] != prediction[i][0]:\n",
    "                    return False\n",
    "            else:\n",
    "                if possibility[i] != prediction[i][0] and possibility[i] != prediction[i][1]:\n",
    "                    return False\n",
    "    return True\n",
    "\n",
    "#Returns the number of correct predictions for a jackpot result\n",
    "def numHits(result,prediction):\n",
    "    temp = []\n",
    "    for j in range(len(result)):\n",
    "        if result[j] in prediction[j]:\n",
    "            temp.append(1)\n",
    "        else:\n",
    "            temp.append(0)\n",
    "    return(sum(temp))"
   ]
  },
  {
   "cell_type": "code",
   "execution_count": 5,
   "metadata": {},
   "outputs": [
    {
     "name": "stdout",
     "output_type": "stream",
     "text": [
      "130\n"
     ]
    }
   ],
   "source": [
    "my_possibilities_dict = {}\n",
    "for a in range (1,131):\n",
    "    my_possibilities_dict[a] = text_to_variable(a)"
   ]
  },
  {
   "cell_type": "code",
   "execution_count": 6,
   "metadata": {},
   "outputs": [
    {
     "data": {
      "text/plain": [
       "range(18685068, 18685068)"
      ]
     },
     "execution_count": 6,
     "metadata": {},
     "output_type": "execute_result"
    }
   ],
   "source": [
    "my_ranges = []\n",
    "my_count = 0\n",
    "for i in my_possibilities_dict.keys():\n",
    "    my_ranges.append(range(my_count,my_count+len(my_possibilities_dict[i])))\n",
    "    my_count+=len(my_possibilities_dict[i])\n",
    "my_ranges.pop()"
   ]
  },
  {
   "cell_type": "code",
   "execution_count": 7,
   "metadata": {},
   "outputs": [
    {
     "name": "stdout",
     "output_type": "stream",
     "text": [
      "18685068\n"
     ]
    }
   ],
   "source": [
    "len_dict = 0\n",
    "for i in my_possibilities_dict.keys():\n",
    "    len_dict+=len(my_possibilities_dict[i])\n",
    "print(len_dict)"
   ]
  },
  {
   "cell_type": "code",
   "execution_count": 13,
   "metadata": {},
   "outputs": [
    {
     "data": {
      "text/plain": [
       "129140163"
      ]
     },
     "execution_count": 13,
     "metadata": {},
     "output_type": "execute_result"
    }
   ],
   "source": [
    "3**17"
   ]
  },
  {
   "cell_type": "code",
   "execution_count": 14,
   "metadata": {},
   "outputs": [
    {
     "name": "stdout",
     "output_type": "stream",
     "text": [
      "29\n"
     ]
    }
   ],
   "source": [
    "filtered_templates = my_hits_templates\n",
    "\n",
    "my_hit_count = 8      #number of games per template\n",
    "numTempls = 30        #number of templates you want to make\n",
    "sample = []           #list containing templates\n",
    "counter = 0\n",
    "counter2 = 0\n",
    "for i in range(numTempls):\n",
    "    k = str_to_list(filtered_templates[np.random.randint(0, len(filtered_templates))])\n",
    "    #print(str(k)+' '+str(counter))\n",
    "    counter+=1\n",
    "    while not (sum(k)==my_hit_count and k not in sample):\n",
    "        #print(str(k)+' '+str(counter2))\n",
    "        counter2+=1\n",
    "        k = str_to_list(filtered_templates[np.random.randint(0, len(filtered_templates))])\n",
    "    sample.append(k)\n",
    "    clear_output()\n",
    "    print(i)\n"
   ]
  },
  {
   "cell_type": "code",
   "execution_count": 15,
   "metadata": {},
   "outputs": [],
   "source": [
    "rand_num = 113\n",
    "#rand_num = np.random.randint(0,124)"
   ]
  },
  {
   "cell_type": "code",
   "execution_count": 16,
   "metadata": {},
   "outputs": [],
   "source": [
    "n = row_results[rand_num] #the jackpot final result\n",
    "my_prediction = row_picks[rand_num]"
   ]
  },
  {
   "cell_type": "code",
   "execution_count": 17,
   "metadata": {},
   "outputs": [
    {
     "name": "stdout",
     "output_type": "stream",
     "text": [
      "Number of correct hits from prediction is: 12\n",
      "[7, 6, 6, 4, 6, 6, 6, 5, 5, 5, 5, 6, 5, 5, 5, 4, 5, 6, 7, 6, 5, 7, 6, 6, 5, 5, 5, 6, 5, 6]\n",
      "{0: 0, 1: 0, 2: 0, 3: 0, 4: 2, 5: 13, 6: 12, 7: 3, 8: 0, 9: 0, 10: 0, 11: 0, 12: 0, 13: 0, 14: 0, 15: 0, 16: 0, 17: 0}\n"
     ]
    }
   ],
   "source": [
    "template_num_hits = []\n",
    "for l in sample:\n",
    "    template_prediction = [my_prediction[i] for i in range(17)  if l[i] == 1 ]\n",
    "    template_result = [n[i] for i in range(17) if l[i] == 1]\n",
    "    template_num_hits.append(numHits(template_result,template_prediction))\n",
    "print('Number of correct hits from prediction is: '+str(numHits(n,my_prediction)))\n",
    "print(template_num_hits)\n",
    "print(countconf(template_num_hits))"
   ]
  },
  {
   "cell_type": "code",
   "execution_count": null,
   "metadata": {},
   "outputs": [
    {
     "name": "stdout",
     "output_type": "stream",
     "text": [
      "5\n",
      "\n",
      "3 [3, 2] 0\n",
      "1 [1] 0\n",
      "1 [1, 3] 1\n",
      "2 [2] 1\n",
      "1 [2] 0\n",
      "3 [2] 0\n",
      "2 [3, 2] 1\n",
      "2 [3, 2] 0\n",
      "3 [1] 0\n",
      "1 [2] 1\n",
      "1 [1, 3] 1\n",
      "2 [3] 1\n",
      "2 [2] 1\n",
      "2 [2] 1\n",
      "1 [1] 0\n",
      "3 [3, 2] 0\n",
      "3 [3, 2] 0\n",
      "Number of correct hits from prediction is: 12\n",
      "Number of correct hits from template is: 6\n",
      "\n",
      "\n"
     ]
    }
   ],
   "source": [
    "numBets = 3  #Number of bets per template\n",
    "bets_sample = []\n",
    "\n",
    "#print(n)\n",
    "#print(my_prediction)\n",
    "\n",
    "print('0\\n')\n",
    "for l in sample:\n",
    "    [print(n[i],my_prediction[i],l[i]) for i in range(17)]\n",
    "    print('Number of correct hits from prediction is: '+str(numHits(n,my_prediction)))\n",
    "    template_prediction = [my_prediction[i] for i in range(17)  if l[i] == 1 ]\n",
    "    template_result = [n[i] for i in range(17) if l[i] == 1]\n",
    "    print('Number of correct hits from template is: '+str(numHits(template_result,template_prediction)))\n",
    "    print('\\n')\n",
    "    for i in range(numBets):\n",
    "            k = normPos_to_dictPos(np.random.randint(0, len_dict))\n",
    "            #print(str(k)+' '+str(counter))\n",
    "            counter+=1\n",
    "            while not (k not in bets_sample and template_to_prediction(l,my_prediction,k)):\n",
    "                #print(str(k)+' '+str(counter2))\n",
    "                counter2+=1\n",
    "                k = normPos_to_dictPos(np.random.randint(0, len_dict))\n",
    "            bets_sample.append(k)\n",
    "            print(i)\n",
    "    clear_output()\n",
    "    print(str(sample.index(l)+1)+'\\n')  \n",
    "    \n",
    "    \n",
    "print(counter2)\n",
    "def compare (x1):\n",
    "    truefalsearr = np.array(x1) == np.array(n)\n",
    "    return list(truefalsearr).count(True)\n",
    "\n",
    "conf = []\n",
    "for i in bets_sample:\n",
    "    conf.append(compare(i))\n",
    "\n",
    "print(countconf(conf))"
   ]
  },
  {
   "cell_type": "code",
   "execution_count": 91,
   "metadata": {},
   "outputs": [
    {
     "name": "stdout",
     "output_type": "stream",
     "text": [
      "[2, 2, 3, 2, 3, 2, 1, 3, 3, 1, 1, 3, 1, 2, 1, 2, 3] 7 0\n",
      "[3, 1, 2, 1, 1, 2, 2, 2, 3, 1, 1, 3, 2, 2, 1, 3, 1] 12 1\n",
      "[3, 1, 3, 3, 1, 2, 2, 3, 1, 2, 3, 2, 1, 1, 1, 1, 3] 7 2\n",
      "[1, 1, 3, 3, 3, 2, 2, 3, 1, 2, 1, 2, 2, 3, 1, 2, 3] 7 3\n",
      "[3, 1, 1, 2, 2, 2, 3, 3, 1, 1, 2, 3, 2, 1, 2, 3, 3] 8 4\n",
      "[2, 1, 3, 2, 2, 2, 3, 1, 1, 1, 3, 3, 2, 3, 1, 2, 3] 6 5\n",
      "[1, 1, 3, 2, 2, 2, 3, 3, 2, 3, 1, 3, 2, 2, 1, 3, 1] 7 6\n",
      "[1, 1, 1, 2, 2, 1, 3, 2, 2, 3, 1, 3, 3, 2, 1, 1, 2] 7 7\n",
      "[3, 1, 2, 1, 3, 3, 1, 3, 2, 2, 1, 1, 2, 2, 1, 3, 3] 9 8\n",
      "[2, 1, 3, 3, 1, 1, 3, 3, 3, 2, 1, 3, 2, 2, 1, 2, 2] 7 9\n",
      "[2, 1, 1, 1, 1, 3, 3, 3, 2, 1, 3, 3, 2, 2, 3, 1, 1] 7 10\n",
      "[2, 1, 3, 1, 1, 3, 3, 3, 3, 1, 3, 2, 2, 2, 2, 1, 1] 8 11\n",
      "[2, 1, 3, 2, 1, 1, 3, 3, 3, 2, 3, 1, 2, 1, 1, 3, 2] 7 12\n",
      "[3, 1, 1, 2, 1, 3, 2, 2, 3, 2, 3, 1, 3, 2, 1, 1, 2] 11 13\n",
      "[3, 2, 1, 2, 1, 1, 2, 3, 1, 3, 3, 3, 2, 2, 1, 2, 3] 9 14\n",
      "[3, 1, 1, 2, 2, 1, 3, 3, 1, 1, 1, 3, 2, 2, 1, 3, 3] 11 15\n",
      "[3, 1, 1, 2, 2, 3, 2, 3, 2, 1, 3, 3, 2, 2, 1, 3, 1] 11 16\n",
      "[3, 1, 3, 2, 2, 1, 2, 2, 2, 1, 1, 3, 1, 1, 1, 2, 3] 9 17\n",
      "[2, 1, 1, 1, 3, 2, 3, 3, 2, 1, 3, 1, 2, 2, 3, 2, 3] 6 18\n",
      "[1, 1, 3, 3, 2, 2, 2, 1, 3, 1, 3, 3, 2, 2, 1, 3, 2] 8 19\n",
      "[2, 2, 1, 2, 1, 3, 3, 3, 1, 1, 1, 1, 2, 2, 2, 3, 3] 10 20\n",
      "[3, 1, 3, 2, 1, 2, 3, 3, 1, 1, 1, 2, 2, 2, 3, 1, 2] 9 21\n",
      "[3, 1, 1, 2, 2, 2, 3, 3, 1, 3, 1, 1, 2, 2, 2, 3, 3] 9 22\n",
      "[1, 1, 1, 2, 2, 2, 3, 2, 3, 1, 1, 3, 2, 1, 3, 3, 2] 9 23\n",
      "[3, 2, 2, 1, 2, 3, 2, 3, 3, 2, 1, 1, 1, 2, 1, 1, 3] 8 24\n",
      "[2, 3, 1, 2, 2, 1, 3, 2, 3, 2, 1, 3, 3, 2, 1, 1, 3] 8 25\n",
      "[3, 1, 1, 1, 3, 2, 3, 3, 1, 2, 1, 2, 3, 2, 1, 3, 1] 8 26\n",
      "[3, 1, 3, 3, 1, 2, 1, 3, 1, 2, 2, 2, 3, 2, 1, 2, 1] 6 27\n",
      "[3, 3, 1, 2, 2, 1, 1, 3, 3, 2, 1, 1, 2, 2, 1, 2, 1] 8 28\n",
      "[3, 3, 1, 2, 2, 3, 3, 1, 1, 2, 1, 3, 2, 2, 2, 3, 1] 8 29\n",
      "[3, 1, 3, 1, 2, 2, 2, 3, 1, 3, 3, 2, 1, 1, 1, 2, 1] 5 30\n",
      "[2, 1, 3, 1, 2, 2, 3, 1, 1, 3, 3, 2, 2, 3, 1, 2, 3] 5 31\n",
      "[3, 1, 3, 2, 2, 2, 2, 3, 1, 1, 1, 3, 1, 2, 1, 2, 3] 9 32\n",
      "[2, 1, 1, 2, 3, 2, 3, 2, 1, 3, 3, 3, 2, 2, 1, 1, 1] 7 33\n",
      "[3, 1, 3, 3, 1, 2, 2, 3, 1, 2, 1, 3, 2, 1, 2, 1, 1] 6 34\n",
      "[2, 3, 1, 1, 1, 1, 3, 2, 1, 2, 3, 3, 2, 2, 1, 1, 3] 7 35\n",
      "[3, 1, 1, 2, 2, 1, 3, 3, 2, 2, 3, 3, 2, 3, 1, 2, 1] 6 36\n",
      "[2, 1, 2, 3, 2, 2, 3, 1, 3, 1, 1, 3, 2, 2, 1, 3, 3] 9 37\n",
      "[3, 2, 3, 2, 1, 2, 3, 1, 1, 2, 3, 3, 1, 2, 1, 2, 1] 5 38\n",
      "[3, 3, 2, 2, 3, 1, 3, 2, 1, 2, 1, 2, 3, 2, 1, 1, 1] 7 39\n",
      "[3, 1, 1, 2, 3, 1, 1, 3, 1, 2, 1, 3, 2, 2, 3, 3, 2] 8 40\n",
      "[3, 1, 1, 2, 3, 2, 3, 2, 1, 2, 1, 3, 2, 2, 3, 1, 3] 9 41\n",
      "[1, 3, 1, 2, 2, 1, 3, 1, 3, 2, 3, 2, 1, 2, 3, 2, 3] 6 42\n",
      "[3, 1, 1, 2, 2, 1, 3, 3, 2, 2, 1, 1, 2, 2, 3, 3, 3] 9 43\n",
      "[2, 1, 3, 3, 2, 1, 2, 2, 1, 1, 2, 3, 3, 3, 1, 1, 3] 6 44\n",
      "[2, 3, 3, 2, 2, 1, 3, 3, 1, 2, 1, 3, 1, 1, 1, 3, 2] 4 45\n",
      "[2, 1, 1, 2, 3, 2, 3, 2, 1, 2, 3, 3, 3, 2, 1, 3, 1] 7 46\n",
      "[1, 1, 3, 2, 3, 2, 1, 3, 2, 2, 3, 3, 3, 2, 1, 1, 2] 4 47\n",
      "[3, 1, 1, 2, 1, 2, 2, 2, 1, 3, 1, 3, 1, 2, 2, 3, 3] 11 48\n",
      "[1, 1, 3, 2, 2, 2, 3, 2, 1, 1, 3, 3, 3, 2, 1, 1, 2] 6 49\n",
      "[2, 1, 1, 2, 2, 2, 3, 2, 1, 3, 1, 3, 3, 2, 1, 3, 1] 8 50\n",
      "[3, 1, 2, 2, 2, 2, 3, 3, 1, 1, 1, 3, 1, 2, 3, 2, 1] 6 51\n",
      "[3, 2, 1, 2, 3, 2, 2, 2, 1, 1, 1, 3, 1, 2, 3, 3, 1] 9 52\n",
      "[3, 1, 1, 2, 2, 2, 3, 3, 2, 3, 2, 3, 1, 2, 1, 3, 1] 7 53\n",
      "[2, 1, 1, 2, 3, 2, 2, 1, 2, 3, 1, 3, 1, 1, 1, 2, 3] 7 54\n",
      "[2, 2, 1, 2, 3, 2, 3, 1, 3, 3, 2, 3, 3, 1, 1, 2, 1] 4 55\n",
      "[3, 1, 1, 1, 1, 2, 2, 3, 1, 2, 3, 3, 2, 2, 3, 2, 3] 8 56\n",
      "[1, 1, 1, 1, 3, 2, 2, 3, 3, 2, 1, 1, 2, 2, 3, 3, 3] 9 57\n",
      "[2, 1, 1, 3, 1, 3, 3, 2, 1, 2, 1, 1, 3, 3, 1, 2, 2] 7 58\n",
      "[2, 1, 3, 1, 1, 3, 3, 2, 3, 2, 2, 2, 2, 1, 1, 3, 3] 10 59\n",
      "[2, 2, 3, 1, 2, 1, 2, 3, 1, 1, 1, 3, 1, 3, 2, 3, 2] 4 60\n",
      "[3, 1, 1, 3, 2, 2, 1, 3, 2, 1, 1, 3, 3, 1, 3, 2, 2] 5 61\n",
      "[3, 1, 1, 2, 2, 2, 1, 1, 3, 2, 1, 1, 2, 2, 1, 3, 3] 11 62\n",
      "[3, 1, 3, 2, 2, 2, 1, 1, 1, 2, 3, 1, 2, 2, 1, 3, 3] 8 63\n",
      "[1, 1, 1, 3, 1, 2, 2, 2, 1, 3, 3, 3, 2, 2, 1, 2, 3] 9 64\n",
      "[1, 1, 1, 1, 2, 2, 2, 3, 1, 3, 1, 3, 2, 2, 3, 2, 1] 6 65\n",
      "[1, 1, 1, 2, 2, 2, 1, 3, 1, 2, 3, 3, 2, 2, 3, 3, 1] 6 66\n",
      "[1, 3, 1, 2, 2, 2, 1, 3, 3, 2, 1, 3, 2, 2, 3, 3, 1] 7 67\n",
      "[2, 1, 2, 1, 3, 2, 2, 3, 1, 2, 3, 3, 3, 2, 3, 1, 1] 3 68\n",
      "[3, 3, 1, 3, 2, 2, 1, 2, 1, 2, 3, 3, 2, 2, 1, 1, 1] 6 69\n",
      "[3, 1, 1, 2, 3, 3, 3, 3, 1, 2, 1, 1, 2, 3, 2, 2, 1] 7 70\n",
      "[3, 1, 1, 2, 1, 1, 1, 3, 1, 2, 1, 3, 2, 2, 3, 3, 3] 10 71\n",
      "[2, 3, 1, 1, 2, 2, 3, 3, 1, 1, 1, 3, 2, 2, 1, 3, 1] 7 72\n",
      "[1, 3, 3, 2, 2, 2, 1, 1, 1, 2, 1, 3, 2, 3, 1, 2, 3] 5 73\n",
      "[3, 1, 3, 2, 1, 2, 2, 1, 1, 2, 2, 3, 2, 1, 1, 1, 3] 8 74\n",
      "[3, 1, 3, 2, 1, 1, 2, 2, 1, 2, 3, 3, 1, 2, 1, 1, 2] 8 75\n",
      "[3, 1, 3, 1, 1, 2, 2, 3, 3, 1, 2, 3, 2, 2, 1, 2, 1] 9 76\n",
      "[3, 1, 2, 1, 3, 2, 2, 3, 1, 2, 2, 3, 3, 2, 1, 3, 1] 6 77\n",
      "[2, 3, 1, 2, 2, 3, 2, 2, 1, 3, 1, 3, 2, 3, 1, 1, 1] 8 78\n",
      "[3, 2, 1, 2, 2, 1, 3, 2, 1, 2, 2, 3, 1, 1, 1, 3, 1] 6 79\n",
      "[3, 1, 1, 1, 2, 2, 1, 3, 1, 2, 3, 3, 2, 3, 2, 2, 3] 5 80\n",
      "[2, 3, 1, 1, 2, 2, 3, 2, 1, 2, 1, 3, 2, 3, 1, 1, 3] 6 81\n",
      "[3, 1, 3, 1, 1, 1, 3, 3, 1, 3, 1, 3, 2, 2, 1, 2, 2] 7 82\n",
      "[2, 1, 3, 1, 2, 3, 2, 1, 1, 1, 3, 3, 3, 3, 1, 1, 2] 5 83\n",
      "[3, 1, 3, 1, 3, 3, 3, 2, 1, 1, 1, 2, 2, 2, 1, 3, 2] 11 84\n",
      "[2, 1, 1, 3, 3, 1, 1, 2, 1, 2, 3, 2, 2, 1, 1, 3, 2] 7 85\n",
      "[2, 3, 1, 2, 2, 1, 3, 3, 1, 2, 1, 1, 2, 2, 1, 3, 1] 7 86\n",
      "[3, 3, 1, 2, 2, 3, 2, 3, 1, 2, 1, 1, 2, 2, 3, 3, 1] 9 87\n",
      "[2, 1, 2, 1, 1, 2, 3, 3, 1, 2, 2, 3, 3, 2, 1, 3, 1] 5 88\n",
      "[1, 3, 1, 3, 1, 2, 3, 2, 3, 2, 1, 3, 3, 2, 1, 2, 2] 7 89\n",
      "[2, 3, 3, 2, 2, 2, 3, 3, 1, 2, 1, 3, 2, 3, 1, 1, 1] 4 90\n",
      "[3, 1, 1, 2, 2, 2, 3, 1, 1, 2, 2, 3, 2, 3, 3, 1, 1] 5 91\n",
      "[1, 1, 1, 3, 2, 2, 3, 1, 1, 3, 1, 3, 2, 2, 1, 3, 3] 8 92\n",
      "[1, 1, 3, 1, 2, 2, 3, 2, 1, 3, 2, 3, 2, 1, 1, 3, 1] 5 93\n",
      "[3, 1, 1, 2, 3, 3, 1, 2, 1, 2, 1, 1, 2, 2, 2, 3, 1] 10 94\n",
      "[2, 1, 3, 2, 2, 1, 1, 2, 1, 2, 3, 3, 2, 1, 1, 3, 3] 7 95\n",
      "[3, 1, 1, 2, 1, 3, 2, 3, 1, 2, 1, 3, 2, 1, 1, 2, 2] 10 96\n",
      "[3, 1, 3, 3, 3, 2, 2, 1, 1, 2, 1, 3, 1, 2, 1, 2, 3] 7 97\n",
      "[3, 1, 1, 1, 2, 2, 3, 2, 2, 1, 3, 3, 2, 2, 1, 1, 3] 9 98\n"
     ]
    },
    {
     "data": {
      "text/plain": [
       "[None,\n",
       " None,\n",
       " None,\n",
       " None,\n",
       " None,\n",
       " None,\n",
       " None,\n",
       " None,\n",
       " None,\n",
       " None,\n",
       " None,\n",
       " None,\n",
       " None,\n",
       " None,\n",
       " None,\n",
       " None,\n",
       " None,\n",
       " None,\n",
       " None,\n",
       " None,\n",
       " None,\n",
       " None,\n",
       " None,\n",
       " None,\n",
       " None,\n",
       " None,\n",
       " None,\n",
       " None,\n",
       " None,\n",
       " None,\n",
       " None,\n",
       " None,\n",
       " None,\n",
       " None,\n",
       " None,\n",
       " None,\n",
       " None,\n",
       " None,\n",
       " None,\n",
       " None,\n",
       " None,\n",
       " None,\n",
       " None,\n",
       " None,\n",
       " None,\n",
       " None,\n",
       " None,\n",
       " None,\n",
       " None,\n",
       " None,\n",
       " None,\n",
       " None,\n",
       " None,\n",
       " None,\n",
       " None,\n",
       " None,\n",
       " None,\n",
       " None,\n",
       " None,\n",
       " None,\n",
       " None,\n",
       " None,\n",
       " None,\n",
       " None,\n",
       " None,\n",
       " None,\n",
       " None,\n",
       " None,\n",
       " None,\n",
       " None,\n",
       " None,\n",
       " None,\n",
       " None,\n",
       " None,\n",
       " None,\n",
       " None,\n",
       " None,\n",
       " None,\n",
       " None,\n",
       " None,\n",
       " None,\n",
       " None,\n",
       " None,\n",
       " None,\n",
       " None,\n",
       " None,\n",
       " None,\n",
       " None,\n",
       " None,\n",
       " None,\n",
       " None,\n",
       " None,\n",
       " None,\n",
       " None,\n",
       " None,\n",
       " None,\n",
       " None,\n",
       " None,\n",
       " None]"
      ]
     },
     "execution_count": 91,
     "metadata": {},
     "output_type": "execute_result"
    }
   ],
   "source": [
    "[print(bets_sample[i],conf[i],i) for i in range(99)]"
   ]
  },
  {
   "cell_type": "code",
   "execution_count": 28,
   "metadata": {},
   "outputs": [
    {
     "data": {
      "text/plain": [
       "100"
      ]
     },
     "execution_count": 28,
     "metadata": {},
     "output_type": "execute_result"
    }
   ],
   "source": [
    "len(conf)"
   ]
  },
  {
   "cell_type": "code",
   "execution_count": null,
   "metadata": {},
   "outputs": [],
   "source": [
    "#for i in range(1,131):\n",
    "#    my_clean = []\n",
    "#    my_clean = [j for j in my_possibilities_dict[i] if sum_n_average_checker(str_to_list(j)) == True]\n",
    "#    with open('cleaner_games17_'+str(i)+'.txt',mode='w') as f:\n",
    "#        for a in my_clean:\n",
    "#            f.write(a+' ')\n",
    "#        print('File cleaner_games17_'+str(i)+'.txt Completed!')"
   ]
  },
  {
   "cell_type": "code",
   "execution_count": null,
   "metadata": {},
   "outputs": [],
   "source": []
  },
  {
   "cell_type": "code",
   "execution_count": null,
   "metadata": {},
   "outputs": [],
   "source": []
  }
 ],
 "metadata": {
  "kernelspec": {
   "display_name": "Python 3",
   "language": "python",
   "name": "python3"
  },
  "language_info": {
   "codemirror_mode": {
    "name": "ipython",
    "version": 3
   },
   "file_extension": ".py",
   "mimetype": "text/x-python",
   "name": "python",
   "nbconvert_exporter": "python",
   "pygments_lexer": "ipython3",
   "version": "3.6.5"
  }
 },
 "nbformat": 4,
 "nbformat_minor": 2
}
